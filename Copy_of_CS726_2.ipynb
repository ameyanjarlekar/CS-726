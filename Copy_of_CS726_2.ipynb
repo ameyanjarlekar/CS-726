{
  "nbformat": 4,
  "nbformat_minor": 0,
  "metadata": {
    "colab": {
      "name": "Copy of CS726_2.ipynb",
      "provenance": [],
      "collapsed_sections": [],
      "include_colab_link": true
    },
    "kernelspec": {
      "name": "python3",
      "display_name": "Python 3"
    },
    "language_info": {
      "name": "python"
    },
    "accelerator": "GPU",
    "widgets": {
      "application/vnd.jupyter.widget-state+json": {
        "a361ae201c774284ba16f74f51c186ee": {
          "model_module": "@jupyter-widgets/controls",
          "model_name": "HBoxModel",
          "state": {
            "_view_name": "HBoxView",
            "_dom_classes": [],
            "_model_name": "HBoxModel",
            "_view_module": "@jupyter-widgets/controls",
            "_model_module_version": "1.5.0",
            "_view_count": null,
            "_view_module_version": "1.5.0",
            "box_style": "",
            "layout": "IPY_MODEL_c70c95e0d0454364957b2789f136e56e",
            "_model_module": "@jupyter-widgets/controls",
            "children": [
              "IPY_MODEL_ba76793cdb844ede87c35139d35cae7c",
              "IPY_MODEL_b50f7f20ccde4528907c6ffb5edb81c9"
            ]
          }
        },
        "c70c95e0d0454364957b2789f136e56e": {
          "model_module": "@jupyter-widgets/base",
          "model_name": "LayoutModel",
          "state": {
            "_view_name": "LayoutView",
            "grid_template_rows": null,
            "right": null,
            "justify_content": null,
            "_view_module": "@jupyter-widgets/base",
            "overflow": null,
            "_model_module_version": "1.2.0",
            "_view_count": null,
            "flex_flow": null,
            "width": null,
            "min_width": null,
            "border": null,
            "align_items": null,
            "bottom": null,
            "_model_module": "@jupyter-widgets/base",
            "top": null,
            "grid_column": null,
            "overflow_y": null,
            "overflow_x": null,
            "grid_auto_flow": null,
            "grid_area": null,
            "grid_template_columns": null,
            "flex": null,
            "_model_name": "LayoutModel",
            "justify_items": null,
            "grid_row": null,
            "max_height": null,
            "align_content": null,
            "visibility": null,
            "align_self": null,
            "height": null,
            "min_height": null,
            "padding": null,
            "grid_auto_rows": null,
            "grid_gap": null,
            "max_width": null,
            "order": null,
            "_view_module_version": "1.2.0",
            "grid_template_areas": null,
            "object_position": null,
            "object_fit": null,
            "grid_auto_columns": null,
            "margin": null,
            "display": null,
            "left": null
          }
        },
        "ba76793cdb844ede87c35139d35cae7c": {
          "model_module": "@jupyter-widgets/controls",
          "model_name": "FloatProgressModel",
          "state": {
            "_view_name": "ProgressView",
            "style": "IPY_MODEL_31d641eeaf034713ba165e394f6dee05",
            "_dom_classes": [],
            "description": "",
            "_model_name": "FloatProgressModel",
            "bar_style": "success",
            "max": 170498071,
            "_view_module": "@jupyter-widgets/controls",
            "_model_module_version": "1.5.0",
            "value": 170498071,
            "_view_count": null,
            "_view_module_version": "1.5.0",
            "orientation": "horizontal",
            "min": 0,
            "description_tooltip": null,
            "_model_module": "@jupyter-widgets/controls",
            "layout": "IPY_MODEL_ca8d5077443e459a85c5de1997a345b9"
          }
        },
        "b50f7f20ccde4528907c6ffb5edb81c9": {
          "model_module": "@jupyter-widgets/controls",
          "model_name": "HTMLModel",
          "state": {
            "_view_name": "HTMLView",
            "style": "IPY_MODEL_0e93a835a2a34ad493bf4832256478cd",
            "_dom_classes": [],
            "description": "",
            "_model_name": "HTMLModel",
            "placeholder": "​",
            "_view_module": "@jupyter-widgets/controls",
            "_model_module_version": "1.5.0",
            "value": " 170499072/? [22:58&lt;00:00, 123725.72it/s]",
            "_view_count": null,
            "_view_module_version": "1.5.0",
            "description_tooltip": null,
            "_model_module": "@jupyter-widgets/controls",
            "layout": "IPY_MODEL_168a3ba07cc24b67bce28ade22d90c6e"
          }
        },
        "31d641eeaf034713ba165e394f6dee05": {
          "model_module": "@jupyter-widgets/controls",
          "model_name": "ProgressStyleModel",
          "state": {
            "_view_name": "StyleView",
            "_model_name": "ProgressStyleModel",
            "description_width": "initial",
            "_view_module": "@jupyter-widgets/base",
            "_model_module_version": "1.5.0",
            "_view_count": null,
            "_view_module_version": "1.2.0",
            "bar_color": null,
            "_model_module": "@jupyter-widgets/controls"
          }
        },
        "ca8d5077443e459a85c5de1997a345b9": {
          "model_module": "@jupyter-widgets/base",
          "model_name": "LayoutModel",
          "state": {
            "_view_name": "LayoutView",
            "grid_template_rows": null,
            "right": null,
            "justify_content": null,
            "_view_module": "@jupyter-widgets/base",
            "overflow": null,
            "_model_module_version": "1.2.0",
            "_view_count": null,
            "flex_flow": null,
            "width": null,
            "min_width": null,
            "border": null,
            "align_items": null,
            "bottom": null,
            "_model_module": "@jupyter-widgets/base",
            "top": null,
            "grid_column": null,
            "overflow_y": null,
            "overflow_x": null,
            "grid_auto_flow": null,
            "grid_area": null,
            "grid_template_columns": null,
            "flex": null,
            "_model_name": "LayoutModel",
            "justify_items": null,
            "grid_row": null,
            "max_height": null,
            "align_content": null,
            "visibility": null,
            "align_self": null,
            "height": null,
            "min_height": null,
            "padding": null,
            "grid_auto_rows": null,
            "grid_gap": null,
            "max_width": null,
            "order": null,
            "_view_module_version": "1.2.0",
            "grid_template_areas": null,
            "object_position": null,
            "object_fit": null,
            "grid_auto_columns": null,
            "margin": null,
            "display": null,
            "left": null
          }
        },
        "0e93a835a2a34ad493bf4832256478cd": {
          "model_module": "@jupyter-widgets/controls",
          "model_name": "DescriptionStyleModel",
          "state": {
            "_view_name": "StyleView",
            "_model_name": "DescriptionStyleModel",
            "description_width": "",
            "_view_module": "@jupyter-widgets/base",
            "_model_module_version": "1.5.0",
            "_view_count": null,
            "_view_module_version": "1.2.0",
            "_model_module": "@jupyter-widgets/controls"
          }
        },
        "168a3ba07cc24b67bce28ade22d90c6e": {
          "model_module": "@jupyter-widgets/base",
          "model_name": "LayoutModel",
          "state": {
            "_view_name": "LayoutView",
            "grid_template_rows": null,
            "right": null,
            "justify_content": null,
            "_view_module": "@jupyter-widgets/base",
            "overflow": null,
            "_model_module_version": "1.2.0",
            "_view_count": null,
            "flex_flow": null,
            "width": null,
            "min_width": null,
            "border": null,
            "align_items": null,
            "bottom": null,
            "_model_module": "@jupyter-widgets/base",
            "top": null,
            "grid_column": null,
            "overflow_y": null,
            "overflow_x": null,
            "grid_auto_flow": null,
            "grid_area": null,
            "grid_template_columns": null,
            "flex": null,
            "_model_name": "LayoutModel",
            "justify_items": null,
            "grid_row": null,
            "max_height": null,
            "align_content": null,
            "visibility": null,
            "align_self": null,
            "height": null,
            "min_height": null,
            "padding": null,
            "grid_auto_rows": null,
            "grid_gap": null,
            "max_width": null,
            "order": null,
            "_view_module_version": "1.2.0",
            "grid_template_areas": null,
            "object_position": null,
            "object_fit": null,
            "grid_auto_columns": null,
            "margin": null,
            "display": null,
            "left": null
          }
        }
      }
    }
  },
  "cells": [
    {
      "cell_type": "markdown",
      "metadata": {
        "id": "view-in-github",
        "colab_type": "text"
      },
      "source": [
        "<a href=\"https://colab.research.google.com/github/ameyanjarlekar/CS-726/blob/main/Copy_of_CS726_2.ipynb\" target=\"_parent\"><img src=\"https://colab.research.google.com/assets/colab-badge.svg\" alt=\"Open In Colab\"/></a>"
      ]
    },
    {
      "cell_type": "code",
      "metadata": {
        "id": "EDtW4tHZzHU_"
      },
      "source": [
        "# install pytorch (http://pytorch.org/) if run from Google Colaboratory\n",
        "import sys\n",
        "\n",
        "\n",
        "%matplotlib inline\n",
        "import os\n",
        "\n",
        "import torch\n",
        "import torch.nn as nn\n",
        "import torch.nn.functional as F"
      ],
      "execution_count": null,
      "outputs": []
    },
    {
      "cell_type": "code",
      "metadata": {
        "id": "luoQHkqnzXcO"
      },
      "source": [
        "\n",
        "percent = 0.1\n",
        "latent_dims = 30\n",
        "num_epochs = 20\n",
        "batch_size = 16\n",
        "capacity = 64\n",
        "learning_rate = 5e-4\n",
        "variational_beta = 1\n",
        "meas=48\n",
        "use_gpu = True"
      ],
      "execution_count": null,
      "outputs": []
    },
    {
      "cell_type": "code",
      "metadata": {
        "colab": {
          "base_uri": "https://localhost:8080/",
          "height": 117,
          "referenced_widgets": [
            "a361ae201c774284ba16f74f51c186ee",
            "c70c95e0d0454364957b2789f136e56e",
            "ba76793cdb844ede87c35139d35cae7c",
            "b50f7f20ccde4528907c6ffb5edb81c9",
            "31d641eeaf034713ba165e394f6dee05",
            "ca8d5077443e459a85c5de1997a345b9",
            "0e93a835a2a34ad493bf4832256478cd",
            "168a3ba07cc24b67bce28ade22d90c6e"
          ]
        },
        "id": "5ZWaQB_VzZkV",
        "outputId": "72fbb512-e0b0-4b22-c9d4-ddb7bc882eb7"
      },
      "source": [
        "import torchvision.transforms as transforms\n",
        "from torch.utils.data import DataLoader\n",
        "from torchvision.datasets import CIFAR10\n",
        "\n",
        "#img_transform = transforms.Compose([\n",
        "#    transforms.Resize(64),\n",
        "#    transforms.ToTensor(),\n",
        "#    transforms.Normalize((0.5,), (0.5,))\n",
        "#])\n",
        "img_transform = transforms.Compose([\n",
        "    transforms.ToTensor(),\n",
        "])\n",
        "\n",
        "train_dataset = CIFAR10(root='./data/CIFAR10', download=True, train=True, transform=img_transform)\n",
        "train_dataloader = DataLoader(train_dataset, batch_size=batch_size, shuffle=True)\n",
        "\n",
        "test_dataset = CIFAR10(root='./data/CIFAR10', download=True, train=False, transform=img_transform)\n",
        "test_dataloader = DataLoader(test_dataset, batch_size=batch_size, shuffle=True)"
      ],
      "execution_count": null,
      "outputs": [
        {
          "output_type": "stream",
          "text": [
            "Downloading https://www.cs.toronto.edu/~kriz/cifar-10-python.tar.gz to ./data/CIFAR10/cifar-10-python.tar.gz\n"
          ],
          "name": "stdout"
        },
        {
          "output_type": "display_data",
          "data": {
            "application/vnd.jupyter.widget-view+json": {
              "model_id": "a361ae201c774284ba16f74f51c186ee",
              "version_minor": 0,
              "version_major": 2
            },
            "text/plain": [
              "HBox(children=(FloatProgress(value=0.0, max=170498071.0), HTML(value='')))"
            ]
          },
          "metadata": {
            "tags": []
          }
        },
        {
          "output_type": "stream",
          "text": [
            "\n",
            "Extracting ./data/CIFAR10/cifar-10-python.tar.gz to ./data/CIFAR10\n",
            "Files already downloaded and verified\n"
          ],
          "name": "stdout"
        }
      ]
    },
    {
      "cell_type": "code",
      "metadata": {
        "id": "TP9TLAhQzfgq"
      },
      "source": [
        "class Discriminator(nn.Module):\n",
        "    def __init__(self, d=32):\n",
        "        super(Discriminator, self).__init__()\n",
        "        self.conv1 = nn.Conv2d(3, d, 4, 2, 1)\n",
        "        self.conv2 = nn.Conv2d(d, d*2, 4, 2, 1)\n",
        "\n",
        "        #self.fc_dis = nn.Linear(in_features=d*2*8*8, out_features=1)\n",
        "        self.conv2_bn = nn.BatchNorm2d(d*2)\n",
        "        #self.dropout = nn.Dropout(0.2)\n",
        "        \n",
        "\n",
        "        self.conv3 = nn.Conv2d(d*2, d*4, 4, 2, 1)\n",
        "        self.conv3_bn = nn.BatchNorm2d(d*4)\n",
        "        self.conv4 = nn.Conv2d(d*4, d*8, 4, 2, 1)\n",
        "\n",
        "        self.fc_dis = nn.Linear(in_features=d*8*2*2, out_features=1)  \n",
        "        self.conv4_bn = nn.BatchNorm2d(d*8)\n",
        "        self.dropout = nn.Dropout(0.2)\n",
        "\n",
        "        #self.conv5 = nn.Conv2d(d*8, 1, 4, 1, 0)\n",
        "        #super(Discriminator, self).__init__()\n",
        "        #self.conv1 = nn.Conv2d(1, d, 4, 2, 1)\n",
        "        #self.conv2 = nn.Conv2d(d, d*2, 4, 2, 1)\n",
        "        #self.conv2_bn = nn.BatchNorm2d(d*2)\n",
        "        #self.conv3 = nn.Conv2d(d*2, d*4, 4, 2, 1)\n",
        "        #self.conv3_bn = nn.BatchNorm2d(d*4)\n",
        "        #self.conv4 = nn.Conv2d(d*4, d*8, 4, 2, 1)\n",
        "        #self.conv4_bn = nn.BatchNorm2d(d*8)\n",
        "        #self.conv5 = nn.Conv2d(d*8, 1, 4, 1, 0)\n",
        "\n",
        "    def forward(self, input):\n",
        "        x = F.leaky_relu(self.conv1(input), 0.2)\n",
        "        #print(np.shape(x))\n",
        "        x = F.leaky_relu(self.conv2_bn(self.conv2(x)), 0.2)\n",
        "        #print(np.shape(x))\n",
        "        x = F.leaky_relu(self.conv3_bn(self.conv3(x)), 0.2)\n",
        "        #print(np.shape(x))\n",
        "        x = F.leaky_relu(self.conv4_bn(self.conv4(x)), 0.2)\n",
        "        #print(np.shape(x))\n",
        "        #x = self.conv2(x)\n",
        "        x = x.view(x.size(0), -1)\n",
        "        x = torch.sigmoid(self.fc_dis(x))\n",
        "\n",
        "\n",
        "        #x = F.leaky_relu(self.conv1(input), 0.2)\n",
        "        #x = F.leaky_relu(self.conv2_bn(self.conv2(x)), 0.2)\n",
        "        #x = F.leaky_relu(self.conv3_bn(self.conv3(x)), 0.2)\n",
        "        #x = F.leaky_relu(self.conv4_bn(self.conv4(x)), 0.2)\n",
        "        #x = torch.sigmoid(self.conv5(x))\n",
        "\n",
        "        return x\n",
        "    \n",
        "discriminator = Discriminator()\n",
        "\n",
        "device = torch.device(\"cuda:0\" if use_gpu and torch.cuda.is_available() else \"cpu\")\n",
        "discriminator = discriminator.to(device)\n"
      ],
      "execution_count": null,
      "outputs": []
    },
    {
      "cell_type": "code",
      "metadata": {
        "id": "i322a0LEsPII"
      },
      "source": [
        "CUDA_LAUNCH_BLOCKING=1"
      ],
      "execution_count": null,
      "outputs": []
    },
    {
      "cell_type": "code",
      "metadata": {
        "id": "nCzXFqvuzhuI",
        "colab": {
          "base_uri": "https://localhost:8080/"
        },
        "outputId": "7390aad6-964e-42a5-bdae-b661e825263b"
      },
      "source": [
        "class Encoder(nn.Module):\n",
        "\t\tdef __init__(self):\n",
        "\n",
        "\n",
        "\t\t\tsuper(Encoder, self).__init__()      \n",
        "\t\t\tc = capacity\n",
        "\t\t\tself.conv1 = nn.Conv2d(in_channels=3, out_channels=c, kernel_size=4, stride=2, padding=1) # out: c x 14 x 14\n",
        "\t\t\tself.dropout = nn.Dropout(0.2)\n",
        "\t\t\tself.conv2 = nn.Conv2d(in_channels=c, out_channels=c*2, kernel_size=4, stride=2, padding=1) # out: c x 7 x 7\n",
        "\t\t\tself.dropout = nn.Dropout(0.2)\n",
        "\t\t\tself.conv3 = nn.Conv2d(in_channels=c*2, out_channels=c*4, kernel_size=4, stride=2, padding=1) # out: c x 7 x 7\n",
        "\t\t\tself.fc_mu = nn.Linear(in_features=c*4*4*4, out_features=latent_dims)\n",
        "\t\t\tself.fc_logvar = nn.Linear(in_features=c*4*4*4, out_features=latent_dims)     \n",
        "\t\t\tself.dropout = nn.Dropout(0.2)\n",
        "\t\t\tself.conv1_bn = nn.BatchNorm2d(c)\n",
        "\t\t\tself.conv2_bn = nn.BatchNorm2d(c*2)\n",
        "\t\t\tself.conv3_bn = nn.BatchNorm2d(c*4)\n",
        "\n",
        "\t\tdef forward(self, x):\n",
        "\t\t\t\n",
        "\t\t\tx = F.leaky_relu(self.conv1_bn(self.conv1(x)), 0.2)\n",
        "\t\t\tx = self.dropout(x)\n",
        "\t\t\tx = F.leaky_relu(self.conv2_bn(self.conv2(x)), 0.2)\n",
        "\t\t\tx = self.dropout(x)\n",
        "\t\t\tx = F.relu(self.conv3_bn(self.conv3(x)))\n",
        "\t\t\tx = x.view(x.size(0), -1) # flatten batch of multi-channel feature maps to a batch of feature vectors\n",
        "\t\t\tx_mu = self.fc_mu(x)\n",
        "\t\t\tx_logvar = self.fc_logvar(x)\n",
        "\t\t\treturn x_mu, x_logvar\n",
        "\t\t\t # x = F.leaky_relu(self.conv1(input), 0.2)\n",
        "\t\t\t # x = F.leaky_relu(self.conv2_bn(self.conv2(x)), 0.2)\n",
        "\t\t\t # x = F.leaky_relu(self.conv3_bn(self.conv3(x)), 0.2)\n",
        "\t\t\t # x = F.leaky_relu(self.conv4_bn(self.conv4(x)), 0.2)\n",
        "\t\t\t # x = x.view(x.size(0), -1) # flatten batch of multi-channel feature maps to a batch of feature vectors\n",
        "\t\t\t # x_mu = self.fc_mu(x)\n",
        "\t\t\t # x_logvar = self.fc_logvar(x)\n",
        "\t\t\t # return x_mu, x_logvar\n",
        "\n",
        "class Decoder(nn.Module):\n",
        "\t\tdef __init__(self):\n",
        "\t\t\tsuper(Decoder, self).__init__()\n",
        "\t\t\tc = capacity\n",
        "\t\t\tself.fc = nn.Linear(in_features=latent_dims, out_features=c*4*4*4)\n",
        "\t\t\tself.conv3 = nn.ConvTranspose2d(in_channels=c*4, out_channels=c*2, kernel_size=4, stride=2, padding=1)\n",
        "\t\t\tself.dropout = nn.Dropout(0.2)\n",
        "\t\t\tself.conv2 = nn.ConvTranspose2d(in_channels=c*2, out_channels=c, kernel_size=4, stride=2, padding=1)\n",
        "\t\t\tself.dropout = nn.Dropout(0.2)\n",
        "\t\t\tself.conv1 = nn.ConvTranspose2d(in_channels=c, out_channels=3, kernel_size=4, stride=2, padding=1)\n",
        "\t\t\tself.conv3_bn = nn.BatchNorm2d(c*2)\n",
        "\t\t\tself.conv2_bn = nn.BatchNorm2d(c)\n",
        "\t\t\tself.dropout = nn.Dropout(0.2)\n",
        "\n",
        "\t\t\t\t#c = capacity\n",
        "\t\t\t\t#self.fc = nn.Linear(in_features=latent_dims, out_features=c*8*10*8)\n",
        "\t\t\t\t#self.conv4 = nn.ConvTranspose2d(in_channels=c*8, out_channels=c*4, kernel_size=5, stride=2, padding=0)\n",
        "\t\t\t\t#self.conv3 = nn.ConvTranspose2d(in_channels=c*4, out_channels=c*2, kernel_size=5, stride=2, padding=0)\n",
        "\t\t\t\t#self.conv2 = nn.ConvTranspose2d(in_channels=c*2, out_channels=c, kernel_size=5, stride=2, padding=0)\n",
        "\t\t\t\t#self.conv1 = nn.ConvTranspose2d(in_channels=c, out_channels=1, kernel_size=5, stride=2, padding=0)\n",
        "\t\t\t\t\t\t\n",
        "\t\tdef forward(self, x):\n",
        "\t\t\tx = self.fc(x)\n",
        "\t\t\tx = x.view(x.size(0), capacity*4, 4, 4) # unflatten batch of feature vectors to a batch of multi-channel feature maps\n",
        "\t\t\tx = F.leaky_relu(self.conv3_bn(self.conv3(x)),0.2)\n",
        "\t\t\tx = self.dropout(x)\n",
        "\t\t\tx = F.leaky_relu(self.conv2_bn(self.conv2(x)),0.2)\n",
        "\t\t\tx = self.dropout(x)\n",
        "\t\t\tx = torch.sigmoid(self.conv1(x)) # last layer before output is sigmoid, since we are using BCE as reconstruction loss\n",
        "\t\t\treturn x\n",
        "\t\t\t # x = self.fc(x)\n",
        "\t\t\t # x = x.view(x.size(0), capacity*2, 10, 8) # unflatten batch of feature vectors to a batch of multi-channel feature maps\n",
        "\t\t\t # x = F.relu(self.conv4(x))\n",
        "\t\t\t # x = F.relu(self.conv3(x))\n",
        "\t\t\t # x = F.relu(self.conv2(x))\n",
        "\t\t\t # x = torch.sigmoid(self.conv1(x)) # last layer before output is sigmoid, since we are using BCE as reconstruction loss\n",
        "\t\t\t # return x\n",
        "\t\t\n",
        "class VariationalAutoencoder(nn.Module):\n",
        "\t\tdef __init__(self):\n",
        "\t\t\t\tsuper(VariationalAutoencoder, self).__init__()\n",
        "\t\t\t\tself.encoder = Encoder()\n",
        "\t\t\t\tself.decoder = Decoder()\n",
        "\t\t\n",
        "\t\tdef forward(self, x):\n",
        "\t\t\t\tlatent_mu, latent_logvar = self.encoder(x)\n",
        "\t\t\t\tlatent = self.latent_sample(latent_mu, latent_logvar)\n",
        "\t\t\t\tx_recon = self.decoder(latent)\n",
        "\t\t\t\treturn x_recon, latent_mu, latent_logvar\n",
        "\t\t\n",
        "\t\tdef latent_sample(self, mu, logvar):\n",
        "\t\t\t\tif self.training:\n",
        "\t\t\t\t\t\t# the reparameterization trick\n",
        "\t\t\t\t\t\tstd = logvar.mul(0.5).exp_()\n",
        "\t\t\t\t\t\teps = torch.empty_like(std).normal_()\n",
        "\t\t\t\t\t\treturn eps.mul(std).add_(mu)\n",
        "\t\t\t\telse:\n",
        "\t\t\t\t\t\treturn mu\n",
        "\t\t\n",
        "def vae_loss(recon_x, x, mu, logvar):\n",
        "\t\t# recon_x is the probability of a multivariate Bernoulli distribution p.\n",
        "\t\t# -log(p(x)) is then the pixel-wise binary cross-entropy.\n",
        "\t\t# Averaging or not averaging the binary cross-entropy over all pixels here\n",
        "\t\t# is a subtle detail with big effect on training, since it changes the weight\n",
        "\t\t# we need to pick for the other loss term by several orders of magnitude.\n",
        "\t\t# Not averaging is the direct implementation of the negative log likelihood,\n",
        "\t\t# but averaging makes the weight of the other loss term independent of the image resolution.\n",
        "\t\trecon_loss = F.binary_cross_entropy(recon_x.view(-1, 3072), x.view(-1, 3072), reduction='sum')\n",
        "\t\t#recon_loss = torch.mean(torch.square(torch.subtract(recon_x, x)))\n",
        "\t\t# KL-divergence between the prior distribution over latent vectors\n",
        "\t\t# (the one we are going to sample from when generating new images)\n",
        "\t\t# and the distribution estimated by the generator for the given image.\n",
        "\t\tkldivergence = -0.5 * torch.sum(1 + logvar - mu.pow(2) - logvar.exp())\n",
        "\t\t\n",
        "\t\treturn recon_loss + variational_beta * kldivergence\n",
        "\n",
        "def recon_loss(recon_x, x):\n",
        "\t\t# recon_x is the probability of a multivariate Bernoulli distribution p.\n",
        "\t\t# -log(p(x)) is then the pixel-wise binary cross-entropy.\n",
        "\t\t# Averaging or not averaging the binary cross-entropy over all pixels here\n",
        "\t\t# is a subtle detail with big effect on training, since it changes the weight\n",
        "\t\t# we need to pick for the other loss term by several orders of magnitude.\n",
        "\t\t# Not averaging is the direct implementation of the negative log likelihood,\n",
        "\t\t# but averaging makes the weight of the other loss term independent of the image resolution.\n",
        "\t\trecon_loss = F.binary_cross_entropy(recon_x.view(-1, 3072), x.view(-1, 3072), reduction='sum')\n",
        "\t\t#recon_loss = torch.mean(torch.square(torch.subtract(recon_x, x)))\n",
        "\t\t# KL-divergence between the prior distribution over latent vectors\n",
        "\t\t# (the one we are going to sample from when generating new images)\n",
        "\t\t# and the distribution estimated by the generator for the given image.\n",
        "\t\t\n",
        "\t\treturn recon_loss \n",
        "\t\t\n",
        "vae = VariationalAutoencoder()\n",
        "\n",
        "device = torch.device(\"cuda:0\" if use_gpu and torch.cuda.is_available() else \"cpu\")\n",
        "vae = vae.to(device)\n",
        "\n",
        "num_params = sum(p.numel() for p in vae.parameters() if p.requires_grad)\n",
        "print('Number of parameters: %d' % num_params)"
      ],
      "execution_count": null,
      "outputs": [
        {
          "output_type": "stream",
          "text": [
            "Number of parameters: 1691583\n"
          ],
          "name": "stdout"
        }
      ]
    },
    {
      "cell_type": "code",
      "metadata": {
        "id": "SPjuLqbUzl8z",
        "colab": {
          "base_uri": "https://localhost:8080/"
        },
        "outputId": "52083927-6a08-40b5-9d20-b7a4d3b9604d"
      },
      "source": [
        "# GAN training can be unstable. In this case, the strong momentum\n",
        "# for the gradient prevents convergence. One possible explanation is that the\n",
        "# strong momentum does not allow the two players in the adversarial game to react\n",
        "# to each other quickly enough. Decreasing beta1 (the exponential decay for the\n",
        "# gradient moving average in [0,1], lower is faster decay) from the default 0.9\n",
        "# to 0.5 allows for quicker reactions.\n",
        "import time\n",
        "import numpy as np\n",
        "import matplotlib.pyplot as plt\n",
        "phi = torch.rand(750,1024)\n",
        "store= torch.matmul(torch.pinverse(phi),phi)\n",
        "start_time=time.time()\n",
        "#disc_optimizer = torch.optim.Adam(params=discriminator.parameters(), lr=learning_rate, betas=(0.5, 0.999))\n",
        "gen_optimizer = torch.optim.Adamax(params=vae.parameters(), lr=learning_rate*10, weight_decay=1e-5)\n",
        "#gen_optimizer = torch.optim.RMSprop(params=vae.parameters(), lr=learning_rate, alpha =0.99, eps=1e-08, weight_decay=0, momentum=0, centered=False)\n",
        "\n",
        "vae.train()\n",
        "\n",
        "discriminator.train()\n",
        "\n",
        "disc_loss_avg = []\n",
        "gen_loss_avg = []\n",
        "\n",
        "print('Training ...')\n",
        "for epoch in range(num_epochs):\n",
        "    gen_loss_avg.append(0)\n",
        "    disc_loss_avg.append(0)\n",
        "    num_batches = 0\n",
        "    i = 0\n",
        "    for image_batch2, _ in train_dataloader:\n",
        "        image_batch = torch.rand(batch_size,3,32,32)\n",
        "        i = i+1\n",
        "        for i in range(batch_size):\n",
        "          for j in range(3):\n",
        "            image_batch[i,j,:,:]=torch.reshape(torch.matmul(store,torch.reshape(image_batch2[i,j,:,:],(1024,1))),(32,32))\n",
        "        # get dataset image and create real and fake labels for use in the loss\n",
        "        image_batch2 = image_batch2.to(device)\n",
        "        image_batch = image_batch.to(device)\n",
        "        label_real = torch.ones(image_batch.size(0), device=device)\n",
        "        label_fake = torch.zeros(image_batch.size(0), device=device)\n",
        "        #print(image_batch)\n",
        "        # generate a batch of images from samples of the latent prior\n",
        "        fake_image_batch, latent_mu, latent_logvar = vae(image_batch)\n",
        "        \n",
        "        # train discriminator to correctly classify real and fake\n",
        "        # (detach the computation graph of the generator and the discriminator,\n",
        "        # so that gradients are not backpropagated into the generator)\n",
        "        real_pred = discriminator(image_batch).squeeze()\n",
        "        #print(np.shape(real_pred))\n",
        "\n",
        "        fake_pred = discriminator(fake_image_batch.detach()).squeeze()\n",
        "        #print(np.shape(label_real))\n",
        "    \n",
        "        disc_loss = torch.mean(torch.square(fake_pred)) + torch.mean(torch.square(1-real_pred))\n",
        "            #F.binary_cross_entropy(real_pred, label_real) +\n",
        "            #F.binary_cross_entropy(fake_pred, label_fake))\n",
        "        \n",
        "        if (epoch % 6) == 0 :\n",
        " #         disc_optimizer.zero_grad()\n",
        "          disc_loss.backward()\n",
        " #        disc_optimizer.step()\n",
        "        \n",
        "        \n",
        "        # train generator to output an image that is classified as real\n",
        "        fake_pred = discriminator(fake_image_batch).squeeze()\n",
        "        #gen_loss = percent*F.binary_cross_entropy(fake_pred, label_real) + (1-percent)*vae_loss(fake_image_batch, image_batch, latent_mu, latent_logvar)  \n",
        "        vaegenloss = (1-percent)*vae_loss(fake_image_batch, image_batch2, latent_mu, latent_logvar) \n",
        "        gen_loss = percent*torch.mean(torch.square(1-fake_pred)) + vaegenloss\n",
        "        \n",
        "        gen_optimizer.zero_grad()\n",
        "        gen_loss.backward()\n",
        "        gen_optimizer.step()\n",
        "       # if epoch > 5:\n",
        "       #   for p in vae.parameters():\n",
        "        #        with torch.no_grad():\n",
        "         #           print(\"Norm of gradient:\", torch.sum(p.grad.data**2))\n",
        "         # print(num_batches)\n",
        "        gen_loss_avg[-1] += gen_loss.item()\n",
        "        disc_loss_avg[-1] += disc_loss.item()\n",
        "        num_batches += 1\n",
        "    #print(i)    \n",
        "    gen_loss_avg[-1] /= num_batches\n",
        "    disc_loss_avg[-1] /= num_batches\n",
        "    print('Epoch [%d / %d] average loss generator vs. discrim.: %f vs. %f' %\n",
        "          (epoch+1, num_epochs, gen_loss_avg[-1], disc_loss_avg[-1]))\n",
        "end_time=time.time()\n",
        "print('time_taken:',end_time-start_time)\n",
        "\n",
        "plt.ion()\n",
        "gen_loss_avg_20000 = [x / 50000 for x in gen_loss_avg]\n",
        "fig = plt.figure()\n",
        "plt.plot(gen_loss_avg_20000, label='generator')\n",
        "plt.plot(disc_loss_avg, label='discriminator')\n",
        "plt.xlabel('Epochs')\n",
        "plt.ylabel('Loss')\n",
        "plt.legend()\n",
        "plt.show()"
      ],
      "execution_count": null,
      "outputs": [
        {
          "output_type": "stream",
          "text": [
            "Training ...\n",
            "Epoch [1 / 20] average loss generator vs. discrim.: 26400.381607 vs. 0.514783\n",
            "Epoch [2 / 20] average loss generator vs. discrim.: 26395.284241 vs. 0.514306\n",
            "Epoch [3 / 20] average loss generator vs. discrim.: 26391.931158 vs. 0.514322\n",
            "Epoch [4 / 20] average loss generator vs. discrim.: 26391.245458 vs. 0.514461\n",
            "Epoch [5 / 20] average loss generator vs. discrim.: 26390.106498 vs. 0.514340\n",
            "Epoch [6 / 20] average loss generator vs. discrim.: 26386.806283 vs. 0.514306\n",
            "Epoch [7 / 20] average loss generator vs. discrim.: 26385.860752 vs. 0.514225\n"
          ],
          "name": "stdout"
        }
      ]
    },
    {
      "cell_type": "code",
      "metadata": {
        "id": "bcwUfDPp-ZaN",
        "colab": {
          "base_uri": "https://localhost:8080/"
        },
        "outputId": "38e1a8c7-0056-4dc9-e8e6-878a9d3f3388"
      },
      "source": [
        "vae.eval()\n",
        "\n",
        "test_loss_avg, num_batches = 0, 0\n",
        "for image_batch2, _ in test_dataloader:\n",
        "    image_batch = torch.rand(batch_size,3,32,32)\n",
        "    with torch.no_grad():\n",
        "        for i in range(batch_size):\n",
        "          for j in range(3):\n",
        "            image_batch[i,j,:,:]=torch.reshape(torch.matmul(store,torch.reshape(image_batch2[i,j,:,:],(1024,1))),(32,32))    \n",
        "        image_batch = image_batch.to(device)\n",
        "        image_batch2 = image_batch2.to(device)\n",
        "        # vae reconstruction\n",
        "        image_batch_recon, latent_mu, latent_logvar = vae(image_batch)\n",
        "\n",
        "        # reconstruction error\n",
        "        loss = recon_loss(image_batch_recon, image_batch2)\n",
        "\n",
        "        test_loss_avg += loss.item()\n",
        "        num_batches += 1\n",
        "    \n",
        "test_loss_avg /= num_batches\n",
        "print('average reconstruction error: %f' % (test_loss_avg))"
      ],
      "execution_count": null,
      "outputs": [
        {
          "output_type": "stream",
          "text": [
            "average reconstruction error: 28487.139919\n"
          ],
          "name": "stdout"
        }
      ]
    },
    {
      "cell_type": "code",
      "metadata": {
        "id": "kQx2N-MA-eIg",
        "colab": {
          "base_uri": "https://localhost:8080/",
          "height": 250
        },
        "outputId": "d8d44ac8-5899-4b8a-91e3-7b6e6e693b4e"
      },
      "source": [
        "import numpy as np\n",
        "import matplotlib.pyplot as plt\n",
        "plt.ion()\n",
        "\n",
        "import torchvision.utils\n",
        "\n",
        "vae.eval()\n",
        "\n",
        "# This function takes as an input the images to reconstruct\n",
        "# and the name of the model with which the reconstructions\n",
        "# are performed\n",
        "def to_img(x):\n",
        "    x = x.clamp(0, 1)\n",
        "    return x\n",
        "\n",
        "def show_image(img):\n",
        "    img = to_img(img)\n",
        "    npimg = img.numpy()\n",
        "    plt.imshow(np.transpose(npimg, (1, 2, 0)))\n",
        "\n",
        "def visualise_output(images, model):\n",
        "\n",
        "    with torch.no_grad():\n",
        "    \n",
        "        imagesa = images.to(device)\n",
        "        images, _, _ = model(imagesa)\n",
        "        print(recon_loss(images,imagesa))\n",
        "        images = images.cpu()\n",
        "        images = to_img(images)\n",
        "        np_imagegrid = torchvision.utils.make_grid(images[1:50], 100, 5).numpy()\n",
        "        plt.imshow(np.transpose(np_imagegrid, (1, 2, 0)))\n",
        "        plt.show()\n",
        "\n",
        "images2, labels = iter(test_dataloader).next()\n",
        "images = torch.rand(batch_size,3,32,32)\n",
        "for i in range(batch_size):\n",
        "  for j in range(3):\n",
        "    images[i,j,:,:]=torch.reshape(torch.matmul(store,torch.reshape(images2[i,j,:,:],(1024,1))),(32,32))\n",
        "print(np.shape(images))\n",
        "# First visualise the original images\n",
        "print('Original images')\n",
        "show_image(torchvision.utils.make_grid(images2[1:50],10,5))\n",
        "plt.show()\n",
        "# Reconstruct and visualise the images using the vae\n",
        "print('VAE reconstruction:')\n",
        "visualise_output(images, vae)"
      ],
      "execution_count": null,
      "outputs": [
        {
          "output_type": "stream",
          "text": [
            "torch.Size([16, 3, 32, 32])\n",
            "Original images\n"
          ],
          "name": "stdout"
        },
        {
          "output_type": "display_data",
          "data": {
            "image/png": "[encoded data removed]",
            "text/plain": [
              "<Figure size 432x288 with 1 Axes>"
            ]
          },
          "metadata": {
            "tags": [],
            "needs_background": "light"
          }
        },
        {
          "output_type": "stream",
          "text": [
            "VAE reconstruction:\n",
            "tensor(30698.3848, device='cuda:0')\n"
          ],
          "name": "stdout"
        },
        {
          "output_type": "display_data",
          "data": {
            "image/png": "[encoded data removed]",
            "text/plain": [
              "<Figure size 432x288 with 1 Axes>"
            ]
          },
          "metadata": {
            "tags": [],
            "needs_background": "light"
          }
        }
      ]
    }
  ]
}